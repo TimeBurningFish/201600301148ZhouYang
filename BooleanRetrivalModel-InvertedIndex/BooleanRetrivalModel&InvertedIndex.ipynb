{
 "cells": [
  {
   "cell_type": "markdown",
   "metadata": {},
   "source": [
    "# 布尔查询与倒排索引\n",
    "### 流程\n",
    "- 数据预处理\n",
    "- 建立到排索引\n",
    "- 实现query的AND，NOT，OR逻辑\n",
    "- 查询操作返回topK结果"
   ]
  },
  {
   "cell_type": "code",
   "execution_count": 13,
   "metadata": {},
   "outputs": [],
   "source": [
    "import json\n",
    "import nltk"
   ]
  },
  {
   "cell_type": "markdown",
   "metadata": {},
   "source": [
    "### 数据预处理\n",
    "- 解析json格式数据得到dict_list\n",
    "- 去非关键性标点，换行符等，split\n",
    "- 建立vocab（Tokenize）\n",
    "- 保存结果数据\n",
    "###### 注意这里的 text texts的顺序相同 vbocab 一个文档只记录一次"
   ]
  },
  {
   "cell_type": "code",
   "execution_count": 14,
   "metadata": {},
   "outputs": [],
   "source": [
    "f = open('./data/tweets.txt','r+')\n",
    "lines = f.readlines()\n",
    "text = []\n",
    "for l in lines:\n",
    "    text.append(json.loads(l)['text'])"
   ]
  },
  {
   "cell_type": "markdown",
   "metadata": {},
   "source": [
    "#### 去除特殊符号\n",
    "- 保留完整网址"
   ]
  },
  {
   "cell_type": "code",
   "execution_count": 15,
   "metadata": {},
   "outputs": [],
   "source": [
    "texts = []\n",
    "symbol = [',',':','_','!','\\\"','*','>','<','@','~','-','(',')','%','=','\\\\','^'\n",
    "          ,'&','|','#','$','[',']','+',':','#','|'] \n",
    "for l in text:\n",
    "    for s in symbol:\n",
    "        line = l.replace(s,'')\n",
    "    line = line.split()\n",
    "    texts.append(line)"
   ]
  },
  {
   "cell_type": "markdown",
   "metadata": {},
   "source": [
    "#### 建立vocab"
   ]
  },
  {
   "cell_type": "code",
   "execution_count": 16,
   "metadata": {},
   "outputs": [],
   "source": [
    "vocab = {}\n",
    "for line in texts:\n",
    "    line_set = set(line) ##去重\n",
    "    for word in line_set:       \n",
    "            if vocab.get(word) == None:\n",
    "                vocab[word] = 1\n",
    "            else :\n",
    "                vocab[word] += 1\n",
    "v_tuple = sorted(vocab.items(),key = lambda x:x[1],reverse=True) ##从大到小排序\n",
    "vocab = {}\n",
    "for t in v_tuple:\n",
    "    vocab[t[0]] = t[1]"
   ]
  },
  {
   "cell_type": "markdown",
   "metadata": {},
   "source": [
    "#### 保存"
   ]
  },
  {
   "cell_type": "code",
   "execution_count": 17,
   "metadata": {},
   "outputs": [],
   "source": [
    "f = open('./data/vocab.txt','w+')\n",
    "line_str = json.dumps(vocab)\n",
    "f.write(line_str)\n",
    "f.close()"
   ]
  },
  {
   "cell_type": "markdown",
   "metadata": {},
   "source": [
    "### 建立到倒排索引"
   ]
  },
  {
   "cell_type": "code",
   "execution_count": 20,
   "metadata": {},
   "outputs": [],
   "source": [
    "word2inverted_index = {} ##一个字典 存frequency 一个字典存 每个词出现的docID\n",
    "keys = list(vocab.keys())\n",
    "for k in keys:\n",
    "    word2inverted_index[k] = []##初始化\n",
    "\n",
    "for i,line in enumerate(texts):\n",
    "    line_set = set(line) ##去重\n",
    "    for word in line_set:\n",
    "        word2inverted_index[word].append(i)"
   ]
  },
  {
   "cell_type": "markdown",
   "metadata": {},
   "source": [
    "### 实现query的AND，NOT，OR逻辑"
   ]
  },
  {
   "cell_type": "code",
   "execution_count": 28,
   "metadata": {},
   "outputs": [],
   "source": [
    "def AND_op(l1,l2):\n",
    "    ##两个有序链表 返回 共同的 docID（交集）有序\n",
    "    result = []\n",
    "    i = 0\n",
    "    j = 0\n",
    "    while(i<len(l1) and j < len(l2)):\n",
    "        if l1[i] == l2[j]:\n",
    "            result.append(l1[i])\n",
    "            i += 1\n",
    "            j += 1\n",
    "        else:\n",
    "            if l1[i] < l2[j]:\n",
    "                i += 1\n",
    "            else:\n",
    "                j += 1\n",
    "    return result"
   ]
  },
  {
   "cell_type": "code",
   "execution_count": 36,
   "metadata": {},
   "outputs": [],
   "source": [
    "def OR_op(l1,l2):\n",
    "    ##两个有序链表 返回并集 docID 并且去重 有序\n",
    "    result = []\n",
    "    i = 0\n",
    "    j = 0\n",
    "    while(i<len(l1) and j < len(l2)):\n",
    "        if l1[i] == l2[j]:\n",
    "            result.append(l1[i])\n",
    "            \n",
    "            i += 1\n",
    "            j += 1\n",
    "        else:\n",
    "            if l1[i] < l2[j]:\n",
    "                result.append(l1[i])\n",
    "                i += 1\n",
    "            else:\n",
    "                result.append(l2[j])\n",
    "                j += 1\n",
    "    result.extend(l1[i:])\n",
    "    result.extend(l2[j:])\n",
    "    ##注意这里注意剩余\n",
    "    return result"
   ]
  },
  {
   "cell_type": "code",
   "execution_count": 56,
   "metadata": {},
   "outputs": [],
   "source": [
    "def NOT_op(l):\n",
    "    ##一个有序链表 返回补集 有序\n",
    "    result = []\n",
    "    j = 0\n",
    "    for i in range(l[-1]):\n",
    "        if l[j] == i:\n",
    "            j += 1\n",
    "        else:\n",
    "            result.append(i)\n",
    "    ##补全\n",
    "    for i in range(l[j]+1,len(texts)):\n",
    "        result.append(i)\n",
    "    return result"
   ]
  },
  {
   "cell_type": "markdown",
   "metadata": {},
   "source": [
    "### 布尔查询"
   ]
  },
  {
   "cell_type": "markdown",
   "metadata": {},
   "source": [
    "#### 后缀表达式需要的堆栈"
   ]
  },
  {
   "cell_type": "code",
   "execution_count": 69,
   "metadata": {},
   "outputs": [],
   "source": [
    "class Stack:\n",
    "\n",
    "    def __init__(self):\n",
    "\n",
    "        self.items = []\n",
    "\n",
    "    def isEmpty(self):\n",
    "\n",
    "        return self.items == []\n",
    "\n",
    "    def push(self, item):\n",
    "\n",
    "        self.items.append(item)\n",
    "\n",
    "    def pop(self):\n",
    "\n",
    "        return self.items.pop()\n",
    "\n",
    "    def peek(self):\n",
    "        if len(self.items) >0:\n",
    "            return self.items[len(self.items)-1]\n",
    "\n",
    "    def size(self):\n",
    "\n",
    "        return len(self.items)    "
   ]
  },
  {
   "cell_type": "code",
   "execution_count": 89,
   "metadata": {},
   "outputs": [],
   "source": [
    "k = 50 ##只取topk个返回\n",
    "query = \"Appel AND pen\"\n",
    "\n",
    "def boolean_search(Q):\n",
    "    ##输入特定的query进行解析\n",
    "    s_line = Q.split()\n",
    "    l = []\n",
    "    op = []\n",
    "    n = 0##not 优先级最高\n",
    "    a = 1##and 优先级次之\n",
    "    o = 2##or 优先级最低\n",
    "    ##数字和list\n",
    "    for s in s_line:\n",
    "        if s == 'NOT':\n",
    "            op.append(n)\n",
    "        elif s == 'AND':\n",
    "            op.append(a)\n",
    "        elif s== 'OR':\n",
    "            op.append(o)\n",
    "        else:\n",
    "            op.append(s)\n",
    "    \n",
    "    stack_back= Stack() ##后缀表达式栈\n",
    "    stack_op = Stack() ##符号栈\n",
    "    for o in op:\n",
    "        if isinstance(o,str):\n",
    "            stack_back.push(o)\n",
    "        else:\n",
    "            top_op = stack_op.peek()\n",
    "            if top_op==None or o > top_op:\n",
    "                ##优先级高于栈顶或者符号栈为空\n",
    "                stack_op.push(o)\n",
    "            else:\n",
    "                while top_op!=None and stack_op.size()!= 0 and o <= top_op:\n",
    "                    stack_back.push(stack_op.pop())##不断加入后缀表达式栈\n",
    "                stack_op.push(o)\n",
    "    \n",
    "    while stack_op.size() != 0:\n",
    "        print(stack_op.size())\n",
    "        stack_back.push(stack_op.pop())##剩余全部加入后缀\n",
    "        \n",
    "    print(stack_back.items)           \n",
    "    print(stack_op.items)        \n",
    "    return l\n",
    "def "
   ]
  },
  {
   "cell_type": "code",
   "execution_count": 92,
   "metadata": {},
   "outputs": [
    {
     "name": "stdout",
     "output_type": "stream",
     "text": [
      "2\n",
      "1\n",
      "['APPLE', 1, 'Apple', 'APPLE', 2, 0]\n",
      "[]\n"
     ]
    },
    {
     "data": {
      "text/plain": [
       "[]"
      ]
     },
     "execution_count": 92,
     "metadata": {},
     "output_type": "execute_result"
    }
   ],
   "source": [
    "boolean_search('APPLE AND NOT Apple OR APPLE')"
   ]
  },
  {
   "cell_type": "code",
   "execution_count": 42,
   "metadata": {},
   "outputs": [],
   "source": []
  },
  {
   "cell_type": "code",
   "execution_count": null,
   "metadata": {},
   "outputs": [],
   "source": []
  }
 ],
 "metadata": {
  "kernelspec": {
   "display_name": "Python 2",
   "language": "python",
   "name": "python2"
  },
  "language_info": {
   "codemirror_mode": {
    "name": "ipython",
    "version": 3
   },
   "file_extension": ".py",
   "mimetype": "text/x-python",
   "name": "python",
   "nbconvert_exporter": "python",
   "pygments_lexer": "ipython3",
   "version": "3.6.5"
  }
 },
 "nbformat": 4,
 "nbformat_minor": 2
}
