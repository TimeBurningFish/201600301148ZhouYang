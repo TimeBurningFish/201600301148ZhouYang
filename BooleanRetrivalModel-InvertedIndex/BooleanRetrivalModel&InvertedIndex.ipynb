{
 "cells": [
  {
   "cell_type": "markdown",
   "metadata": {},
   "source": [
    "# 布尔查询与倒排索引\n",
    "### 流程\n",
    "- 数据预处理\n",
    "- 建立到排索引\n",
    "- 实现query的AND，NOT，OR逻辑\n",
    "- 查询操作返回topK结果"
   ]
  },
  {
   "cell_type": "code",
   "execution_count": 13,
   "metadata": {},
   "outputs": [],
   "source": [
    "import json\n",
    "import nltk"
   ]
  },
  {
   "cell_type": "markdown",
   "metadata": {},
   "source": [
    "### 数据预处理\n",
    "- 解析json格式数据得到dict_list\n",
    "- 去非关键性标点，换行符等，split\n",
    "- 建立vocab（Tokenize）\n",
    "- 保存结果数据\n",
    "###### 注意这里的 text texts的顺序相同 vbocab 一个文档只记录一次"
   ]
  },
  {
   "cell_type": "code",
   "execution_count": 14,
   "metadata": {},
   "outputs": [],
   "source": [
    "f = open('./data/tweets.txt','r+')\n",
    "lines = f.readlines()\n",
    "text = []\n",
    "for l in lines:\n",
    "    text.append(json.loads(l)['text'])"
   ]
  },
  {
   "cell_type": "markdown",
   "metadata": {},
   "source": [
    "#### 去除特殊符号\n",
    "- 保留完整网址"
   ]
  },
  {
   "cell_type": "code",
   "execution_count": 15,
   "metadata": {},
   "outputs": [],
   "source": [
    "texts = []\n",
    "symbol = [',',':','_','!','\\\"','*','>','<','@','~','-','(',')','%','=','\\\\','^'\n",
    "          ,'&','|','#','$','[',']','+',':','#','|'] \n",
    "for l in text:\n",
    "    for s in symbol:\n",
    "        line = l.replace(s,'')\n",
    "    line = line.split()\n",
    "    texts.append(line)"
   ]
  },
  {
   "cell_type": "markdown",
   "metadata": {},
   "source": [
    "#### 建立vocab"
   ]
  },
  {
   "cell_type": "code",
   "execution_count": 16,
   "metadata": {},
   "outputs": [],
   "source": [
    "vocab = {}\n",
    "for line in texts:\n",
    "    line_set = set(line) ##去重\n",
    "    for word in line_set:       \n",
    "            if vocab.get(word) == None:\n",
    "                vocab[word] = 1\n",
    "            else :\n",
    "                vocab[word] += 1\n",
    "v_tuple = sorted(vocab.items(),key = lambda x:x[1],reverse=True) ##从大到小排序\n",
    "vocab = {}\n",
    "for t in v_tuple:\n",
    "    vocab[t[0]] = t[1]"
   ]
  },
  {
   "cell_type": "markdown",
   "metadata": {},
   "source": [
    "#### 保存"
   ]
  },
  {
   "cell_type": "code",
   "execution_count": 17,
   "metadata": {},
   "outputs": [],
   "source": [
    "f = open('./data/vocab.txt','w+')\n",
    "line_str = json.dumps(vocab)\n",
    "f.write(line_str)\n",
    "f.close()"
   ]
  },
  {
   "cell_type": "markdown",
   "metadata": {},
   "source": [
    "### 建立到倒排索引"
   ]
  },
  {
   "cell_type": "code",
   "execution_count": 20,
   "metadata": {},
   "outputs": [],
   "source": [
    "word2inverted_index = {} ##一个字典 存frequency 一个字典存 每个词出现的docID\n",
    "keys = list(vocab.keys())\n",
    "for k in keys:\n",
    "    word2inverted_index[k] = []##初始化\n",
    "\n",
    "for i,line in enumerate(texts):\n",
    "    line_set = set(line) ##去重\n",
    "    for word in line_set:\n",
    "        word2inverted_index[word].append(i)"
   ]
  },
  {
   "cell_type": "markdown",
   "metadata": {},
   "source": [
    "### 实现query的AND，NOT，OR逻辑"
   ]
  },
  {
   "cell_type": "code",
   "execution_count": 28,
   "metadata": {},
   "outputs": [],
   "source": [
    "def AND_op(l1,l2):\n",
    "    ##两个有序链表 返回 共同的 docID（交集）有序\n",
    "    result = []\n",
    "    i = 0\n",
    "    j = 0\n",
    "    while(i<len(l1) and j < len(l2)):\n",
    "        if l1[i] == l2[j]:\n",
    "            result.append(l1[i])\n",
    "            i += 1\n",
    "            j += 1\n",
    "        else:\n",
    "            if l1[i] < l2[j]:\n",
    "                i += 1\n",
    "            else:\n",
    "                j += 1\n",
    "    return result"
   ]
  },
  {
   "cell_type": "code",
   "execution_count": 36,
   "metadata": {},
   "outputs": [],
   "source": [
    "def OR_op(l1,l2):\n",
    "    ##两个有序链表 返回并集 docID 并且去重 有序\n",
    "    result = []\n",
    "    i = 0\n",
    "    j = 0\n",
    "    while(i<len(l1) and j < len(l2)):\n",
    "        if l1[i] == l2[j]:\n",
    "            result.append(l1[i])\n",
    "            \n",
    "            i += 1\n",
    "            j += 1\n",
    "        else:\n",
    "            if l1[i] < l2[j]:\n",
    "                result.append(l1[i])\n",
    "                i += 1\n",
    "            else:\n",
    "                result.append(l2[j])\n",
    "                j += 1\n",
    "    result.extend(l1[i:])\n",
    "    result.extend(l2[j:])\n",
    "    ##注意这里注意剩余\n",
    "    return result"
   ]
  },
  {
   "cell_type": "code",
   "execution_count": 56,
   "metadata": {},
   "outputs": [],
   "source": [
    "def NOT_op(l):\n",
    "    ##一个有序链表 返回补集 有序\n",
    "    result = []\n",
    "    j = 0\n",
    "    for i in range(l[-1]):\n",
    "        if l[j] == i:\n",
    "            j += 1\n",
    "        else:\n",
    "            result.append(i)\n",
    "    ##补全\n",
    "    for i in range(l[j]+1,len(texts)):\n",
    "        result.append(i)\n",
    "    return result"
   ]
  },
  {
   "cell_type": "markdown",
   "metadata": {},
   "source": [
    "### 布尔查询\n",
    "#### 支持\n",
    "- NOT否定运算\n",
    "- AND交集运算\n",
    "- OR并集运算\n",
    "- 上述运算具有优先级\n",
    "- ()运算，并且支持嵌套"
   ]
  },
  {
   "cell_type": "markdown",
   "metadata": {},
   "source": [
    "#### 字符串解析与计算\n",
    "- 中缀表达式变成后缀表达式\n",
    "- 后缀表达式的计算"
   ]
  },
  {
   "cell_type": "code",
   "execution_count": 117,
   "metadata": {},
   "outputs": [],
   "source": [
    "ops_rule = {\n",
    "    '+': 1,\n",
    "    '*': 2,\n",
    "} ##优先级定义\n",
    "\n",
    "def middle_to_after(ss):\n",
    "    expression = []\n",
    "    ops = []\n",
    "    for item in ss:\n",
    "        if item in ['+', '*']:\n",
    "            while len(ops) >= 0:\n",
    "                if len(ops) == 0:\n",
    "                    ops.append(item)\n",
    "                    break\n",
    "                op = ops.pop()\n",
    "                if op == '(' or ops_rule[item] > ops_rule[op]:\n",
    "                    ops.append(op)\n",
    "                    ops.append(item)\n",
    "                    break\n",
    "                else:\n",
    "                    expression.append(op)\n",
    "        elif item == '(':\n",
    "            ops.append(item)\n",
    "        elif item == ')':\n",
    "            while len(ops) > 0:\n",
    "                op = ops.pop()\n",
    "                if op == '(':\n",
    "                    break\n",
    "                else:\n",
    "                    expression.append(op)\n",
    "        else:\n",
    "            expression.append(item)\n",
    "\n",
    "    while len(ops) > 0:\n",
    "        expression.append(ops.pop())\n",
    "\n",
    "    return expression\n",
    "\n",
    "def expression_to_value(expression):\n",
    "    stack_value = []\n",
    "    for item in expression:\n",
    "        if item in ['+', '*']:\n",
    "            n2 = stack_value.pop()\n",
    "            n1 = stack_value.pop()\n",
    "            result = cal(n1, n2, item)\n",
    "            stack_value.append(result)\n",
    "        else:\n",
    "            stack_value.append(item)\n",
    "    return stack_value[0]\n",
    " \n",
    "def cal(n1, n2, op):\n",
    "    if op == '+':\n",
    "        return OR_op(n1,n2)\n",
    "    if op == '*':\n",
    "        return AND_op(n1,n2)"
   ]
  },
  {
   "cell_type": "markdown",
   "metadata": {},
   "source": [
    "#### 先处理NOT再进行其他操作的运算\n",
    "- 支持括号运算"
   ]
  },
  {
   "cell_type": "code",
   "execution_count": 118,
   "metadata": {},
   "outputs": [],
   "source": [
    "def boolean_search(Q):\n",
    "    ##输入特定的query进行解析\n",
    "    s_line = Q.split()\n",
    "    l = []\n",
    "    op = []\n",
    "    ##数字和list\n",
    "    i = 0\n",
    "    ##解决 not 问题\n",
    "    while i < len(s_line):\n",
    "        s = s_line[i]\n",
    "        if s == 'NOT':\n",
    "            op.append(NOT_op(word2inverted_index[s_line[i+1]]))\n",
    "            i += 1\n",
    "        else:\n",
    "            if s == 'AND':\n",
    "                op.append('*') ##优先级高\n",
    "            elif s == 'OR':\n",
    "                op.append('+') ##优先级低\n",
    "            elif s == '(':\n",
    "                op.append('(') \n",
    "            elif s == ')':\n",
    "                op.append(')') \n",
    "            else:\n",
    "                op.append(word2inverted_index[s])\n",
    "        i += 1\n",
    "    return expression_to_value(middle_to_after(op))"
   ]
  },
  {
   "cell_type": "markdown",
   "metadata": {},
   "source": [
    "#### 返回topk\n",
    "- 这里k取20"
   ]
  },
  {
   "cell_type": "code",
   "execution_count": 155,
   "metadata": {},
   "outputs": [],
   "source": [
    "def top_k_search(Q):\n",
    "    k = 20\n",
    "    return [texts[i] for i in boolean_search(Q)[:20]] ##这里自动返回 前20个 不足 不会补全"
   ]
  },
  {
   "cell_type": "markdown",
   "metadata": {},
   "source": [
    "#### 这个方法会让打印出来的字符改变颜色强调\n",
    "- 关键词变成红色起到调的作用"
   ]
  },
  {
   "cell_type": "code",
   "execution_count": 160,
   "metadata": {},
   "outputs": [],
   "source": [
    "def inred( s ):\n",
    "    return\"%s[31;2m%s%s[0m\"%(chr(27), s, chr(27))\n",
    "def print_line_with_important(line , Q):\n",
    "    Q = Q.replace('NOT','')\n",
    "    Q = Q.replace('AND','')\n",
    "    Q = Q.replace('OR','')\n",
    "    Q = Q.replace('(','')\n",
    "    Q = Q.replace(')','')\n",
    "    #只剩关键词语\n",
    "    \n",
    "    s_line = Q.split()\n",
    "    \n",
    "    to_be_print = ''\n",
    "    for l in line:\n",
    "        if l in s_line:\n",
    "            to_be_print += inred(l) +' ' ##这里强调\n",
    "        else :\n",
    "            to_be_print += l + ' '\n",
    "    print(to_be_print)\n",
    "def print_top_k(Q):\n",
    "    for line in top_k_search(Q):\n",
    "        print_line_with_important(line,Q)"
   ]
  },
  {
   "cell_type": "markdown",
   "metadata": {},
   "source": [
    "### 测试查询结果\n",
    "- 效果感觉非常不错"
   ]
  },
  {
   "cell_type": "code",
   "execution_count": 169,
   "metadata": {},
   "outputs": [
    {
     "name": "stdout",
     "output_type": "stream",
     "text": [
      "Tim Cook steps in for Steve Jobs at \u001b[31;2mApple\u001b[0m - San Francisco Chronicle http://bit.ly/dYzbN4 \n",
      "IJSMblog Week: Does \u001b[31;2mApple\u001b[0m have a future without Steve Jobs? http://bit.ly/hT82a5 \n",
      "What Would an \u001b[31;2mApple\u001b[0m Without Steve Jobs Be Like? – Newsweek: CTV.ca What Would an Apple… http://goo.gl/fb/ooiEb \n",
      "What Would an \u001b[31;2mApple\u001b[0m Without Steve Jobs Be Like? - Newsweek http://goo.gl/fb/iikvB \n",
      "Blog Post:8 Potential Replacements for Steve Jobs at \u001b[31;2mApple\u001b[0m http://tumblr.com/x231bxmp87 via @fastcompany \n",
      "-&gt;@TechCrunch: DLD11: James Murdoch On The Daily, Paywalls, Google And \u001b[31;2mApple\u001b[0m http://bit.ly/g53dEG \n",
      "Kumaran : DLD11: James Murdoch On The Daily, Paywalls, Google And \u001b[31;2mApple\u001b[0m http://zah.cc/rx4 \n",
      "DLD11: James Murdoch On The Daily, Paywalls, Google And \u001b[31;2mApple\u001b[0m http://bit.ly/gRTTzw \n",
      "DLD11: James Murdoch On The Daily, Paywalls, Google And \u001b[31;2mApple\u001b[0m http://bit.ly/gRTTzw #tech \n",
      "DLD11: James Murdoch On The Daily, Paywalls, Google And \u001b[31;2mApple\u001b[0m http://goo.gl/fb/UZPsG \n",
      "\u001b[31;2mApple\u001b[0m Leads Smartphone Race, while Android Attracts Most Recent Customers http://todooli.com/1 \n",
      "Robin Wauters / TechCrunch:DLD11: James Murdoch On The Daily, Paywalls, Google And \u001b[31;2mApple\u001b[0m —... http://bit.ly/gkBviS [Web News] #Media \n",
      "DLD11: James Murdoch On The Daily, Paywalls, Google And \u001b[31;2mApple\u001b[0m (Robin Wauters/TechCrunch) http://bit.ly/gibdAP \n",
      "Internet News Steve Jobs Medical Problems affect \u001b[31;2mApple\u001b[0m Stock ...: The latest Internet News is that Steve Jobs ... http://bit.ly/eu1dov \n",
      "News5 new results for android iphone Google Chasing \u001b[31;2mApple\u001b[0m in Smartphone, Tablet PopularityeWeekIDC and Appcelera... http://bit.ly/fKtUWq \n",
      "Google Chasing \u001b[31;2mApple\u001b[0m in Smartphone, Tablet Popularity: IDC and Appcelerator said Android smartphones and tablet ... http://bit.ly/gIP46o \n",
      "eMarketer: \u001b[31;2mApple\u001b[0m Will Soon Lead The US Smartphone Market – But Not For Long: According to eMarketer, \u001b[31;2mApple\u001b[0m is t... http://bit.ly/gOqCej \n",
      "#tech eMarketer: \u001b[31;2mApple\u001b[0m Will Soon Lead The US Smartphone Market – But Not For Long http://bit.ly/euA43t \n",
      "eMarketer: \u001b[31;2mApple\u001b[0m Will Soon Lead The US Smartphone Market – But Not For Long: According to eMarketer, \u001b[31;2mApple\u001b[0m is t... http://bit.ly/euA43t \n",
      "eMarketer: \u001b[31;2mApple\u001b[0m Will Soon Lead The US Smartphone Market – But Not For Long: According to eMarketer, \u001b[31;2mApple\u001b[0m is t... http://bit.ly/gOqCej \n"
     ]
    }
   ],
   "source": [
    "print_top_k('Apple')"
   ]
  },
  {
   "cell_type": "code",
   "execution_count": 170,
   "metadata": {},
   "outputs": [
    {
     "name": "stdout",
     "output_type": "stream",
     "text": [
      "\u001b[31;2mA\u001b[0m Shredded BBQ Chicken Sliders with Creamy Cole Slaw #recipe was just added: http://bit.ly/gPMYh1 \n",
      "Australia braces for more floods: \u001b[31;2mA\u001b[0m giant inland sea of floodwater will spread across the Australian state of Vi... http://bbc.in/i1wSfM \n",
      "40st McDonalds \u001b[31;2mA\u001b[0m Effin Zoo!! Lol \n",
      "Credit Card Consolidation Help – How To Use \u001b[31;2mA\u001b[0m Debt Settlement To Consolidate Credit Bills http://tinyurl.com/4h8vajn \n",
      "@lukewilliamss Brain fluid buildup delays rehab for Congresswoman Giffords: \u001b[31;2mA\u001b[0m buildup of fluid in... http://bit.ly/gzZg9Z #lukewilliamss \n",
      "www.webmarkloans.com Consult Your Debt Consolidation Company For Financial Issues: \u001b[31;2mA\u001b[0m debt consolidation company ... http://bit.ly/gYFWIs \n",
      "Dutchman charged in Yeates murder hunt (AFP) - AFP - \u001b[31;2mA\u001b[0m 32-year-old Dutchman was charged Saturday with the murde... http://ow.ly/1aZqxx \n",
      "50 Cent at Sundance: \u001b[31;2mA\u001b[0m work in progess http://bit.ly/fjq9uC \n",
      "Aristide Must Come Back Before \u001b[31;2mA\u001b[0m Republican President Gets Elected In US: Well said TIBA, we are paying the pri... http://bit.ly/hT4Cde \n",
      "Web: The Netherlands too small for iPad newspaper: \u001b[31;2mA\u001b[0m paid daily iPad-only newspaper is only an attractive ... http://bit.ly/gHOGhE #iPad \n",
      "Balance Transfers on Credit Card Debt APR with 0 Percent Offers Stage \u001b[31;2mA\u001b[0m Comeback: With the APR on your credit ca... http://bit.ly/eWqiv3 \n",
      "Understatement 8/5 runs in Race 8 at Big \u001b[31;2mA\u001b[0m for a 50G tag. 6-year-old horse with class, but the tag sends mixed signals--willing to lose him. \n",
      "Barbel Fishing on the Float: \u001b[31;2mA\u001b[0m short edited clip from the Barbel Days & Ways Series V4, top barbel angler Mic wo... http://bit.ly/dQ4tAZ \n",
      "Oprah's Family Secret - \u001b[31;2mA\u001b[0m News Views: “I was given news that literally shook me to my heart. This time, I am the... http://bit.ly/hxg00Z \n",
      "American fishing books, 1743-1993: \u001b[31;2mA\u001b[0m guide to values http://goo.gl/fb/bfsPr \n",
      "Marco Rubio May Not Join Tea Party Caucus: \u001b[31;2mA\u001b[0m tea party caucus of U.S. senators convenes Thursday for the first ... http://huff.to/hISG0z \n",
      "\u001b[31;2mA\u001b[0m surprise half sister for Oprah? - Chicago Sun-Times: http://bit.ly/eZ0gzx \n",
      "DTN Australia: Lance leads ride for flood relief: \u001b[31;2mA\u001b[0m SEA of spandex rolled through Brisbane as thousands of cycli... http://bit.ly/faju5l \n",
      "Xpressbet Race Results: Australia \u001b[31;2mA\u001b[0m race 7 finished 1,8,9,3. Winner paid $5.60. \n",
      "Interesting Post Free Debt Consolidation Advice – Make Use Of It Now! : \u001b[31;2mA\u001b[0m New Government Debt Con... http://bit.ly/dEz9g1 Check it Out! \n"
     ]
    }
   ],
   "source": [
    "print_top_k('A AND NOT Apple')"
   ]
  },
  {
   "cell_type": "code",
   "execution_count": 172,
   "metadata": {},
   "outputs": [
    {
     "name": "stdout",
     "output_type": "stream",
     "text": [
      "\u001b[31;2mApple\u001b[0m nkor\"@OtunbaSula: RIM bawo? : “@MOHYEES: \u001b[31;2mA\u001b[0m prolific writer. He controlled pen and paper. RIM Chinua Achebe. We will surely miss you”\" \n"
     ]
    }
   ],
   "source": [
    "print_top_k('A AND Apple')"
   ]
  },
  {
   "cell_type": "code",
   "execution_count": 176,
   "metadata": {},
   "outputs": [
    {
     "name": "stdout",
     "output_type": "stream",
     "text": [
      "eMarketer: \u001b[31;2mApple\u001b[0m \u001b[31;2mWill\u001b[0m Soon Lead The US Smartphone Market – But Not For Long: According to eMarketer, \u001b[31;2mApple\u001b[0m is t... http://bit.ly/gOqCej \n",
      "#tech eMarketer: \u001b[31;2mApple\u001b[0m \u001b[31;2mWill\u001b[0m Soon Lead The US Smartphone Market – But Not For Long http://bit.ly/euA43t \n",
      "eMarketer: \u001b[31;2mApple\u001b[0m \u001b[31;2mWill\u001b[0m Soon Lead The US Smartphone Market – But Not For Long: According to eMarketer, \u001b[31;2mApple\u001b[0m is t... http://bit.ly/euA43t \n",
      "eMarketer: \u001b[31;2mApple\u001b[0m \u001b[31;2mWill\u001b[0m Soon Lead The US Smartphone Market – But Not For Long: According to eMarketer, \u001b[31;2mApple\u001b[0m is t... http://bit.ly/gOqCej \n",
      "eMarketer: \u001b[31;2mApple\u001b[0m \u001b[31;2mWill\u001b[0m Soon Lead The US Smartphone Market – But Not For Long: According to eMarketer, \u001b[31;2mApple\u001b[0m is t... http://bit.ly/fpNBr8 \n",
      "eMarketer: \u001b[31;2mApple\u001b[0m \u001b[31;2mWill\u001b[0m Soon Lead The US Smartphone Market – But Not For Long: According to eMarketer, \u001b[31;2mApple\u001b[0m is t... http://bit.ly/f5MYLk \n",
      "\u001b[31;2mApple\u001b[0m \u001b[31;2mWill\u001b[0m Soon Lead The US Smartphone Market  But Not For Long - by @bonairedotcom 27/01/2011 @ 19:12: Acco... http://bit.ly/hkgGSn \n",
      "DigiC.Live Murdoch Hopes \u001b[31;2mApple\u001b[0m \u001b[31;2mWill\u001b[0m Lower Its Share Of The Daily Take (Staci D. Kramer/paidContent): Staci D. ... http://bit.ly/eQH9tO \n",
      "\u001b[31;2mApple\u001b[0m nkor\"@OtunbaSula: RIM bawo? : “@MOHYEES: \u001b[31;2mA\u001b[0m prolific writer. He controlled pen and paper. RIM Chinua Achebe. We will surely miss you”\" \n"
     ]
    }
   ],
   "source": [
    "print_top_k('( A OR Will ) AND Apple')"
   ]
  }
 ],
 "metadata": {
  "kernelspec": {
   "display_name": "Python 2",
   "language": "python",
   "name": "python2"
  },
  "language_info": {
   "codemirror_mode": {
    "name": "ipython",
    "version": 3
   },
   "file_extension": ".py",
   "mimetype": "text/x-python",
   "name": "python",
   "nbconvert_exporter": "python",
   "pygments_lexer": "ipython3",
   "version": "3.6.5"
  }
 },
 "nbformat": 4,
 "nbformat_minor": 2
}
